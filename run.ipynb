{
 "cells": [
  {
   "cell_type": "code",
   "execution_count": 2,
   "metadata": {},
   "outputs": [],
   "source": [
    "%load_ext autoreload\n",
    "%autoreload 2"
   ]
  },
  {
   "cell_type": "code",
   "execution_count": 16,
   "metadata": {},
   "outputs": [],
   "source": [
    "import pandas as pd\n",
    "import pybaseball\n",
    "from data_loader import PitchDataLoader\n",
    "import processing as prc\n",
    "import stuff_model as stuff\n",
    "import joblib\n",
    "\n",
    "import pandas as pd\n",
    "import numpy as np\n",
    "import skfuzzy as fuzz\n",
    "from sklearn.preprocessing import StandardScaler\n",
    "from sklearn.decomposition import PCA\n",
    "from sklearn.neighbors import KernelDensity\n",
    "from joblib import Parallel, delayed\n",
    "from xgboost import XGBRegressor\n",
    "from tune_xgboost import tune_xgboost, distill_params\n",
    "from typing import List, Dict, Tuple, Optional"
   ]
  },
  {
   "cell_type": "code",
   "execution_count": 4,
   "metadata": {},
   "outputs": [],
   "source": [
    "path = 'data/'\n",
    "pybaseball.cache.enable()"
   ]
  },
  {
   "cell_type": "code",
   "execution_count": 5,
   "metadata": {},
   "outputs": [],
   "source": [
    "pdl = PitchDataLoader(path=path, start_date='2016-03-01', end_date='2024-11-15')\n",
    "#pdl.load_new_data()"
   ]
  },
  {
   "cell_type": "code",
   "execution_count": 5,
   "metadata": {},
   "outputs": [],
   "source": [
    "df = pdl.df.copy()\n",
    "df = prc.apply_all_filters(df, prc.default_filters()).copy()\n",
    "df = prc.save_memory(df, cols_to_drop=['des']).copy()\n",
    "df = prc.calculate_new_features(df).copy()\n",
    "df = prc.save_memory(df).copy()\n",
    "df.to_parquet(f'{path}mem_eff_pitch_data.parquet')"
   ]
  },
  {
   "cell_type": "code",
   "execution_count": 6,
   "metadata": {},
   "outputs": [],
   "source": [
    "df = pd.read_parquet(f'{path}mem_eff_pitch_data.parquet')"
   ]
  },
  {
   "cell_type": "code",
   "execution_count": 23,
   "metadata": {},
   "outputs": [
    {
     "name": "stdout",
     "output_type": "stream",
     "text": [
      "100%|██████████| 30/30 [01:57<00:00,  3.91s/trial, best loss: 0.59476561477669]  \n",
      "{'cluster1': 'gyro slider', 'cluster2': 'cutter', 'cluster3': 'offspeed', 'cluster4': 'high-slot fastball', 'cluster5': 'sweeper', 'cluster6': 'low-slot fastball', 'cluster7': 'curveball', 'cluster8': 'sinker'}\n"
     ]
    }
   ],
   "source": [
    "stuff_features = ['speed', 'speed_diff', 'lift', 'lift_diff', 'transverse_pit', 'transverse_pit_diff', \n",
    "                  'release_pos_x_pit', 'release_pos_y', 'release_pos_z', 'vert_approach_angle_adj']\n",
    "cluster_target = 'csw'\n",
    "\n",
    "df = stuff.assign_fuzzy_clusters(df, stuff_features, cluster_target)\n",
    "df = prc.save_memory(df)\n",
    "df.to_parquet(f'{path}clustered_pitch_data.parquet')"
   ]
  },
  {
   "cell_type": "code",
   "execution_count": 24,
   "metadata": {},
   "outputs": [
    {
     "name": "stderr",
     "output_type": "stream",
     "text": [
      "c:\\Users\\calal\\PitchSim\\stuff_model.py:170: FutureWarning: The default of observed=False is deprecated and will be changed to True in a future version of pandas. Pass observed=False to retain current behavior or observed=True to adopt the future default and silence this warning.\n",
      "  grouped = df[cols].groupby(group_cols)\n"
     ]
    },
    {
     "data": {
      "text/plain": [
       "['data/platoon_cluster_dist.dat']"
      ]
     },
     "execution_count": 24,
     "metadata": {},
     "output_type": "execute_result"
    }
   ],
   "source": [
    "cluster_dist = stuff.create_location_distributions(df)\n",
    "count_frequencies = stuff.calculate_count_frequencies(df)\n",
    "platoon_cluster_dist = stuff.combine_flatten_distributions(cluster_dist, count_frequencies)\n",
    "joblib.dump(platoon_cluster_dist, 'data/platoon_cluster_dist.dat')"
   ]
  },
  {
   "cell_type": "code",
   "execution_count": 25,
   "metadata": {},
   "outputs": [
    {
     "name": "stdout",
     "output_type": "stream",
     "text": [
      "100%|██████████| 30/30 [04:11<00:00,  8.39s/trial, best loss: 0.42217230804973305]\n",
      "100%|██████████| 30/30 [03:25<00:00,  6.85s/trial, best loss: 0.4614861654671837]\n",
      "100%|██████████| 30/30 [03:12<00:00,  6.42s/trial, best loss: 0.15958146159484238]\n",
      "100%|██████████| 30/30 [02:35<00:00,  5.17s/trial, best loss: 0.01758540548682458] \n",
      "100%|██████████| 30/30 [03:37<00:00,  7.26s/trial, best loss: 0.6628150280839916]\n",
      "100%|██████████| 30/30 [03:06<00:00,  6.23s/trial, best loss: 0.632173671048221] \n",
      "100%|██████████| 30/30 [01:54<00:00,  3.81s/trial, best loss: 0.35046240257370875]\n",
      "100%|██████████| 30/30 [01:54<00:00,  3.83s/trial, best loss: 0.4371952970598194] \n",
      "100%|██████████| 30/30 [01:54<00:00,  3.82s/trial, best loss: 0.3018922261302999]\n",
      "100%|██████████| 30/30 [01:20<00:00,  2.69s/trial, best loss: 0.3571244861636534] \n",
      "100%|██████████| 30/30 [00:52<00:00,  1.76s/trial, best loss: 0.6690882630844428]\n",
      "100%|██████████| 30/30 [5:39:52<00:00, 679.76s/trial, best loss: 0.6614014087799577]    \n",
      "100%|██████████| 30/30 [01:24<00:00,  2.82s/trial, best loss: 0.5802943104582152]\n",
      "100%|██████████| 30/30 [00:42<00:00,  1.42s/trial, best loss: 0.2842531978844976] \n"
     ]
    },
    {
     "data": {
      "text/plain": [
       "['data/xgb_models.dat']"
      ]
     },
     "execution_count": 25,
     "metadata": {},
     "output_type": "execute_result"
    }
   ],
   "source": [
    "feat = ['speed', 'vert_approach_angle_adj', 'transverse', 'transverse_pit', 'transverse_bat', \n",
    "        'lift', 'release_pos_x', 'release_pos_x_pit','release_pos_x_bat', 'release_pos_y', \n",
    "        'release_pos_z', 'plate_x', 'plate_x_pit','plate_x_bat', 'plate_x_abs', 'plate_z', \n",
    "        'plate_z_top', 'plate_z_bot', 'plate_dist', 'balls', 'strikes', 'speed_diff', \n",
    "        'lift_diff', 'transverse_pit_diff', 'vert_approach_angle', 'game_year']\n",
    "\n",
    "model_filters = stuff.get_model_filters(df)\n",
    "xgb_models = stuff.train_models(df, model_filters, feat)\n",
    "joblib.dump(xgb_models, 'data/xgb_models.dat')"
   ]
  },
  {
   "cell_type": "code",
   "execution_count": 14,
   "metadata": {},
   "outputs": [],
   "source": [
    "df = pd.read_parquet(f'{path}clustered_pitch_data.parquet')"
   ]
  },
  {
   "cell_type": "code",
   "execution_count": 10,
   "metadata": {},
   "outputs": [],
   "source": [
    "batch_size = 5000\n",
    "n_batches = 3\n",
    "rv = pd.read_csv('runvalue.csv')\n",
    "dist = joblib.load('data/platoon_cluster_dist.dat')\n",
    "features = ['speed', 'vert_approach_angle_adj', 'transverse', 'transverse_pit', 'transverse_bat', \n",
    "        'lift', 'release_pos_x', 'release_pos_x_pit','release_pos_x_bat', 'release_pos_y', \n",
    "        'release_pos_z', 'plate_x', 'plate_x_pit','plate_x_bat', 'plate_x_abs', 'plate_z', \n",
    "        'plate_z_top', 'plate_z_bot', 'plate_dist', 'balls', 'strikes', 'speed_diff', \n",
    "        'lift_diff', 'transverse_pit_diff', 'vert_approach_angle', 'game_year']\n",
    "xgb_models = joblib.load('data/xgb_models.dat')\n",
    "path = 'data/'\n",
    "#sim = stuff.simulate_pitches(df, batch_size, n_batches, dist, features, rv, xgb_models, path)"
   ]
  },
  {
   "cell_type": "code",
   "execution_count": 11,
   "metadata": {},
   "outputs": [],
   "source": [
    "simR = []\n",
    "simL = []\n",
    "for i in range(n_batches):\n",
    "    simR.append(pd.read_parquet(f'data/sim_vsR_batch{i+1}.parquet'))\n",
    "    simL.append(pd.read_parquet(f'data/sim_vsL_batch{i+1}.parquet'))\n",
    "simR = pd.concat(simR).reset_index(drop=True)\n",
    "simL = pd.concat(simL).reset_index(drop=True)\n",
    "simR.to_parquet(f'{path}sim_vsR.parquet')\n",
    "simL.to_parquet(f'{path}sim_vsL.parquet')"
   ]
  },
  {
   "cell_type": "code",
   "execution_count": 12,
   "metadata": {},
   "outputs": [
    {
     "name": "stdout",
     "output_type": "stream",
     "text": [
      "  0%|          | 0/10 [00:00<?, ?trial/s, best loss=?]"
     ]
    },
    {
     "name": "stderr",
     "output_type": "stream",
     "text": [
      "c:\\Users\\calal\\AppData\\Local\\Programs\\Python\\Python311\\Lib\\site-packages\\xgboost\\core.py:158: UserWarning: [19:59:56] WARNING: C:\\buildkite-agent\\builds\\buildkite-windows-cpu-autoscaling-group-i-0015a694724fa8361-1\\xgboost\\xgboost-ci-windows\\src\\common\\error_msg.cc:45: `gpu_id` is deprecated since2.0.0, use `device` instead. E.g. device=cpu/cuda/cuda:0\n",
      "  warnings.warn(smsg, UserWarning)\n",
      "\n",
      "c:\\Users\\calal\\AppData\\Local\\Programs\\Python\\Python311\\Lib\\site-packages\\xgboost\\core.py:158: UserWarning: [19:59:58] WARNING: C:\\buildkite-agent\\builds\\buildkite-windows-cpu-autoscaling-group-i-0015a694724fa8361-1\\xgboost\\xgboost-ci-windows\\src\\common\\error_msg.cc:58: Falling back to prediction using DMatrix due to mismatched devices. This might lead to higher memory usage and slower performance. XGBoost is running on: cuda:0, while the input data is on: cpu.\n",
      "Potential solutions:\n",
      "- Use a data structure that matches the device ordinal in the booster.\n",
      "- Set the device for booster before call to inplace_predict.\n",
      "\n",
      "This warning will only be shown once.\n",
      "\n",
      "  warnings.warn(smsg, UserWarning)\n",
      "\n"
     ]
    },
    {
     "name": "stdout",
     "output_type": "stream",
     "text": [
      "100%|██████████| 10/10 [00:55<00:00,  5.57s/trial, best loss: 0.00014462331971498878]\n",
      "100%|██████████| 10/10 [00:50<00:00,  5.07s/trial, best loss: 0.00010337266531034472]\n",
      "100%|██████████| 10/10 [00:16<00:00,  1.64s/trial, best loss: 1.688997020757612e-07]\n",
      "100%|██████████| 10/10 [00:42<00:00,  4.29s/trial, best loss: 7.803001704313726e-05]\n",
      "100%|██████████| 10/10 [00:46<00:00,  4.69s/trial, best loss: 7.025269047459416e-05]\n",
      "100%|██████████| 10/10 [00:32<00:00,  3.27s/trial, best loss: 1.1379767031648009e-06]\n",
      "100%|██████████| 10/10 [00:29<00:00,  2.98s/trial, best loss: 7.745661903656032e-07]\n",
      "100%|██████████| 10/10 [00:23<00:00,  2.30s/trial, best loss: 2.9295585484469407e-07]\n",
      "100%|██████████| 10/10 [00:50<00:00,  5.03s/trial, best loss: 1.192626942279711e-05]\n",
      "100%|██████████| 10/10 [00:44<00:00,  4.50s/trial, best loss: 2.6125621541963193e-06]\n",
      "100%|██████████| 10/10 [00:43<00:00,  4.36s/trial, best loss: 1.2756726533254224e-05]\n",
      "100%|██████████| 10/10 [00:39<00:00,  3.97s/trial, best loss: 2.0715382083521295e-06]\n",
      "100%|██████████| 10/10 [00:25<00:00,  2.54s/trial, best loss: 4.6851669726799323e-07]\n",
      "100%|██████████| 10/10 [00:08<00:00,  1.20trial/s, best loss: 1.0360931477809886e-08]\n",
      "100%|██████████| 10/10 [00:36<00:00,  3.70s/trial, best loss: 2.9827985013965885e-06]\n",
      "100%|██████████| 10/10 [00:49<00:00,  4.96s/trial, best loss: 0.00012932270065942004]\n",
      "100%|██████████| 10/10 [00:41<00:00,  4.16s/trial, best loss: 9.78402152487355e-05]\n",
      "100%|██████████| 10/10 [00:15<00:00,  1.55s/trial, best loss: 1.5591074727071401e-07]\n",
      "100%|██████████| 10/10 [01:02<00:00,  6.26s/trial, best loss: 7.62072710319228e-05]\n",
      "100%|██████████| 10/10 [00:43<00:00,  4.36s/trial, best loss: 6.673198631289547e-05]\n",
      "100%|██████████| 10/10 [00:32<00:00,  3.21s/trial, best loss: 9.71252768302499e-07] \n",
      "100%|██████████| 10/10 [00:25<00:00,  2.55s/trial, best loss: 6.345627470056662e-07]\n",
      "100%|██████████| 10/10 [00:20<00:00,  2.06s/trial, best loss: 2.1466647490207616e-07]\n",
      "100%|██████████| 10/10 [00:40<00:00,  4.03s/trial, best loss: 1.2237371676944384e-05]\n",
      "100%|██████████| 10/10 [00:38<00:00,  3.88s/trial, best loss: 1.940356665285438e-06]\n",
      "100%|██████████| 10/10 [00:51<00:00,  5.15s/trial, best loss: 1.1645322351405617e-05]\n",
      "100%|██████████| 10/10 [00:40<00:00,  4.09s/trial, best loss: 1.821784451390341e-06]\n",
      "100%|██████████| 10/10 [00:23<00:00,  2.39s/trial, best loss: 4.1307801948801655e-07]\n",
      "100%|██████████| 10/10 [00:08<00:00,  1.11trial/s, best loss: 1.576145909169568e-08]\n",
      "100%|██████████| 10/10 [00:40<00:00,  4.00s/trial, best loss: 3.152913242729707e-06]\n",
      "x_callstr\n",
      "x_ball\n",
      "x_hbp\n",
      "x_swstr\n",
      "x_foul\n",
      "x_pop\n",
      "x_hr\n",
      "x_if1b\n",
      "x_gbout\n",
      "x_gidp\n",
      "x_air_out\n",
      "x_1b\n",
      "x_2b\n",
      "x_3b\n",
      "x_run_value\n"
     ]
    }
   ],
   "source": [
    "distill_features = ['speed', 'speed_diff', 'lift', 'lift_diff', \n",
    "                    'transverse', 'transverse_pit', 'transverse_pit_diff', \n",
    "                    'release_pos_x', 'release_pos_x_pit', 'release_pos_y', 'release_pos_z', \n",
    "                    'vert_approach_angle_adj']\n",
    "events = [x for x in simR.columns if x.startswith('x_')]\n",
    "vsR_models = stuff.train_distilled_models(simR, distill_features, events)\n",
    "vsL_models = stuff.train_distilled_models(simL, distill_features, events)\n",
    "\n",
    "df = stuff.make_distilled_predictions(df, distill_features, events, vsR_models, vsL_models)"
   ]
  },
  {
   "cell_type": "code",
   "execution_count": 17,
   "metadata": {},
   "outputs": [
    {
     "name": "stdout",
     "output_type": "stream",
     "text": [
      "x_callstr\n",
      "x_ball\n",
      "x_hbp\n",
      "x_swstr\n",
      "x_foul\n",
      "x_pop\n",
      "x_hr\n",
      "x_if1b\n",
      "x_gbout\n",
      "x_gidp\n",
      "x_air_out\n",
      "x_1b\n",
      "x_2b\n",
      "x_3b\n",
      "x_run_value\n"
     ]
    },
    {
     "name": "stderr",
     "output_type": "stream",
     "text": [
      "c:\\Users\\calal\\PitchSim\\stuff_model.py:525: FutureWarning: The default of observed=False is deprecated and will be changed to True in a future version of pandas. Pass observed=False to retain current behavior or observed=True to adopt the future default and silence this warning.\n",
      "  grp_filt = df[cols].groupby(by=group_cols).filter(lambda x: len(x) >= 10)\n",
      "c:\\Users\\calal\\PitchSim\\stuff_model.py:528: FutureWarning: The default of observed=False is deprecated and will be changed to True in a future version of pandas. Pass observed=False to retain current behavior or observed=True to adopt the future default and silence this warning.\n",
      "  results = grp_filt[cols].groupby(by=group_cols).mean().dropna().reset_index()\n",
      "c:\\Users\\calal\\PitchSim\\stuff_model.py:529: FutureWarning: The default of observed=False is deprecated and will be changed to True in a future version of pandas. Pass observed=False to retain current behavior or observed=True to adopt the future default and silence this warning.\n",
      "  res_count = grp_filt[cols].groupby(by=group_cols).speed.count().reset_index().rename(columns={'speed':'pitches'})\n"
     ]
    }
   ],
   "source": [
    "df = stuff.make_distilled_predictions(df, distill_features, events, vsR_models, vsL_models)\n",
    "stuff.generate_results_csv(df, distill_features)"
   ]
  },
  {
   "cell_type": "code",
   "execution_count": null,
   "metadata": {},
   "outputs": [],
   "source": []
  },
  {
   "cell_type": "code",
   "execution_count": null,
   "metadata": {},
   "outputs": [],
   "source": []
  }
 ],
 "metadata": {
  "kernelspec": {
   "display_name": "base",
   "language": "python",
   "name": "python3"
  },
  "language_info": {
   "codemirror_mode": {
    "name": "ipython",
    "version": 3
   },
   "file_extension": ".py",
   "mimetype": "text/x-python",
   "name": "python",
   "nbconvert_exporter": "python",
   "pygments_lexer": "ipython3",
   "version": "3.11.9"
  },
  "orig_nbformat": 4
 },
 "nbformat": 4,
 "nbformat_minor": 2
}
