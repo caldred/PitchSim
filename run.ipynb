{
 "cells": [
  {
   "cell_type": "code",
   "execution_count": null,
   "metadata": {},
   "outputs": [],
   "source": [
    "%load_ext autoreload\n",
    "%autoreload 2"
   ]
  },
  {
   "cell_type": "code",
   "execution_count": null,
   "metadata": {},
   "outputs": [],
   "source": [
    "import pandas as pd\n",
    "\n",
    "from data_loader import PitchDataLoader\n",
    "import processing as prc\n",
    "import stuff_model as stuff\n",
    "import joblib"
   ]
  },
  {
   "cell_type": "code",
   "execution_count": null,
   "metadata": {},
   "outputs": [],
   "source": [
    "path = 'data/'\n",
    "\n",
    "pdl = PitchDataLoader(path=path)\n",
    "pdl.load_new_data()\n",
    "df = pdl.df\n",
    "df = prc.apply_all_filters(df, prc.default_filters())\n",
    "df = prc.save_memory(df, cols_to_drop=['des'])\n",
    "df = prc.calculate_new_features(df)\n",
    "df = prc.save_memory(df)\n",
    "df.to_parquet(f'{path}mem_eff_pitch_data.parquet')"
   ]
  },
  {
   "cell_type": "code",
   "execution_count": null,
   "metadata": {},
   "outputs": [],
   "source": [
    "stuff_features = ['speed', 'speed_diff', 'lift', 'lift_diff', 'transverse_pit', 'transverse_pit_diff', \n",
    "                  'release_pos_x_pit', 'release_pos_y', 'release_pos_z', 'vert_approach_angle_adj']\n",
    "cluster_target = 'csw'\n",
    "\n",
    "df = stuff.assign_fuzzy_clusters(df, stuff_features, cluster_target)\n",
    "df = prc.save_memory(df)\n",
    "df.to_parquet(f'{path}clustered_pitch_data.parquet')"
   ]
  },
  {
   "cell_type": "code",
   "execution_count": null,
   "metadata": {},
   "outputs": [],
   "source": [
    "cluster_dist = stuff.create_location_distributions(df)\n",
    "count_frequencies = stuff.calculate_count_frequencies(df)\n",
    "platoon_cluster_dist = stuff.combine_flatten_distributions(cluster_dist, count_frequencies)\n",
    "joblib.dump(platoon_cluster_dist, 'data/platoon_cluster_dist.dat')"
   ]
  },
  {
   "cell_type": "code",
   "execution_count": null,
   "metadata": {},
   "outputs": [],
   "source": [
    "feat = ['speed', 'vert_approach_angle_adj', 'transverse', 'transverse_pit', 'transverse_bat', \n",
    "        'lift', 'release_pos_x', 'release_pos_x_pit','release_pos_x_bat', 'release_pos_y', \n",
    "        'release_pos_z', 'plate_x', 'plate_x_pit','plate_x_bat', 'plate_x_abs', 'plate_z', \n",
    "        'plate_z_top', 'plate_z_bot', 'plate_dist', 'balls', 'strikes', 'speed_diff', \n",
    "        'lift_diff', 'transverse_pit_diff', 'vert_approach_angle', 'game_year']\n",
    "\n",
    "model_filters = stuff.get_model_filters(df)\n",
    "xgb_models = stuff.train_models(df, model_filters, feat)\n",
    "joblib.dump(xgb_models, 'data/xgb_models.dat')"
   ]
  },
  {
   "cell_type": "code",
   "execution_count": null,
   "metadata": {},
   "outputs": [],
   "source": [
    "batch_size = 5000\n",
    "n_batches = 4\n",
    "rv = pd.read_csv('runvalue.csv')\n",
    "dist = joblib.load('data/platoon_cluster_dist.dat')\n",
    "features = ['speed', 'vert_approach_angle_adj', 'transverse', 'transverse_pit', 'transverse_bat', \n",
    "        'lift', 'release_pos_x', 'release_pos_x_pit','release_pos_x_bat', 'release_pos_y', \n",
    "        'release_pos_z', 'plate_x', 'plate_x_pit','plate_x_bat', 'plate_x_abs', 'plate_z', \n",
    "        'plate_z_top', 'plate_z_bot', 'plate_dist', 'balls', 'strikes', 'speed_diff', \n",
    "        'lift_diff', 'transverse_pit_diff', 'vert_approach_angle', 'game_year']\n",
    "xgb_models = joblib.load('data/xgb_models.dat')\n",
    "path = 'data/plots/'\n",
    "sim = stuff.simulate_pitches(df, batch_size, n_batches, dist, features, rv, xgb_models, path, year=2022)"
   ]
  },
  {
   "cell_type": "code",
   "execution_count": null,
   "metadata": {},
   "outputs": [],
   "source": [
    "simR = []\n",
    "simL = []\n",
    "for i in range(n_batches):\n",
    "    simR.append(pd.read_parquet(f'data/sim_vsR_batch{i+1}.parquet'))\n",
    "    simL.append(pd.read_parquet(f'data/sim_vsL_batch{i+1}.parquet'))\n",
    "simR = pd.concat(simR).reset_index(drop=True)\n",
    "simL = pd.concat(simL).reset_index(drop=True)"
   ]
  },
  {
   "cell_type": "code",
   "execution_count": null,
   "metadata": {},
   "outputs": [],
   "source": [
    "distill_features = ['speed', 'speed_diff', 'lift', 'lift_diff', \n",
    "                    'transverse', 'transverse_pit', 'transverse_pit_diff', \n",
    "                    'release_pos_x', 'release_pos_x_pit', 'release_pos_y', 'release_pos_z', \n",
    "                    'vert_approach_angle_adj'] + stuff.cluster_names\n",
    "events = [x for x in simR.columns if x.startswith('x_')]\n",
    "vsR_models = stuff.train_distilled_models(simR, distill_features, events)\n",
    "vsL_models = stuff.train_distilled_models(simL, distill_features, events)\n",
    "\n",
    "df = stuff.make_distilled_predictions(df, distill_features, events, vsR_models, vsL_models, game_year=2022)"
   ]
  },
  {
   "cell_type": "code",
   "execution_count": null,
   "metadata": {},
   "outputs": [],
   "source": [
    "stuff.generate_results_csv(df, distill_features)"
   ]
  },
  {
   "cell_type": "code",
   "execution_count": null,
   "metadata": {},
   "outputs": [],
   "source": []
  }
 ],
 "metadata": {
  "kernelspec": {
   "display_name": "base",
   "language": "python",
   "name": "python3"
  },
  "language_info": {
   "codemirror_mode": {
    "name": "ipython",
    "version": 3
   },
   "file_extension": ".py",
   "mimetype": "text/x-python",
   "name": "python",
   "nbconvert_exporter": "python",
   "pygments_lexer": "ipython3",
   "version": "3.9.13"
  },
  "orig_nbformat": 4
 },
 "nbformat": 4,
 "nbformat_minor": 2
}
